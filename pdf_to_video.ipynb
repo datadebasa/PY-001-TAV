{
  "nbformat": 4,
  "nbformat_minor": 0,
  "metadata": {
    "colab": {
      "provenance": [],
      "authorship_tag": "ABX9TyO0U8ydV1WTFEwasYDWm0H6",
      "include_colab_link": true
    },
    "kernelspec": {
      "name": "python3",
      "display_name": "Python 3"
    },
    "language_info": {
      "name": "python"
    }
  },
  "cells": [
    {
      "cell_type": "markdown",
      "metadata": {
        "id": "view-in-github",
        "colab_type": "text"
      },
      "source": [
        "<a href=\"https://colab.research.google.com/github/datadebasa/PY-001-TAV/blob/main/pdf_to_video.ipynb\" target=\"_parent\"><img src=\"https://colab.research.google.com/assets/colab-badge.svg\" alt=\"Open In Colab\"/></a>"
      ]
    },
    {
      "cell_type": "markdown",
      "source": [
        "# Install Aplikasi dan Library"
      ],
      "metadata": {
        "id": "15MUMlbflXdd"
      }
    },
    {
      "cell_type": "code",
      "source": [
        "!pip install PyPDF2 pdf2image moviepy"
      ],
      "metadata": {
        "colab": {
          "base_uri": "https://localhost:8080/"
        },
        "id": "K_hiT7BdfA-p",
        "outputId": "c83704e9-3dc4-498a-e53e-1b28d579bef5"
      },
      "execution_count": 18,
      "outputs": [
        {
          "output_type": "stream",
          "name": "stdout",
          "text": [
            "Requirement already satisfied: PyPDF2 in /usr/local/lib/python3.10/dist-packages (3.0.1)\n",
            "Requirement already satisfied: pdf2image in /usr/local/lib/python3.10/dist-packages (1.17.0)\n",
            "Requirement already satisfied: moviepy in /usr/local/lib/python3.10/dist-packages (1.0.3)\n",
            "Requirement already satisfied: pillow in /usr/local/lib/python3.10/dist-packages (from pdf2image) (10.4.0)\n",
            "Requirement already satisfied: decorator<5.0,>=4.0.2 in /usr/local/lib/python3.10/dist-packages (from moviepy) (4.4.2)\n",
            "Requirement already satisfied: tqdm<5.0,>=4.11.2 in /usr/local/lib/python3.10/dist-packages (from moviepy) (4.66.5)\n",
            "Requirement already satisfied: requests<3.0,>=2.8.1 in /usr/local/lib/python3.10/dist-packages (from moviepy) (2.32.3)\n",
            "Requirement already satisfied: proglog<=1.0.0 in /usr/local/lib/python3.10/dist-packages (from moviepy) (0.1.10)\n",
            "Requirement already satisfied: numpy>=1.17.3 in /usr/local/lib/python3.10/dist-packages (from moviepy) (1.26.4)\n",
            "Requirement already satisfied: imageio<3.0,>=2.5 in /usr/local/lib/python3.10/dist-packages (from moviepy) (2.35.1)\n",
            "Requirement already satisfied: imageio-ffmpeg>=0.2.0 in /usr/local/lib/python3.10/dist-packages (from moviepy) (0.5.1)\n",
            "Requirement already satisfied: setuptools in /usr/local/lib/python3.10/dist-packages (from imageio-ffmpeg>=0.2.0->moviepy) (71.0.4)\n",
            "Requirement already satisfied: charset-normalizer<4,>=2 in /usr/local/lib/python3.10/dist-packages (from requests<3.0,>=2.8.1->moviepy) (3.3.2)\n",
            "Requirement already satisfied: idna<4,>=2.5 in /usr/local/lib/python3.10/dist-packages (from requests<3.0,>=2.8.1->moviepy) (3.10)\n",
            "Requirement already satisfied: urllib3<3,>=1.21.1 in /usr/local/lib/python3.10/dist-packages (from requests<3.0,>=2.8.1->moviepy) (2.2.3)\n",
            "Requirement already satisfied: certifi>=2017.4.17 in /usr/local/lib/python3.10/dist-packages (from requests<3.0,>=2.8.1->moviepy) (2024.8.30)\n"
          ]
        }
      ]
    },
    {
      "cell_type": "code",
      "source": [
        "!apt-get install poppler-utils"
      ],
      "metadata": {
        "colab": {
          "base_uri": "https://localhost:8080/"
        },
        "id": "LJn7egbIfYVC",
        "outputId": "fa209c79-5d09-448b-96d2-95f96203eb92"
      },
      "execution_count": 19,
      "outputs": [
        {
          "output_type": "stream",
          "name": "stdout",
          "text": [
            "Reading package lists... Done\n",
            "Building dependency tree... Done\n",
            "Reading state information... Done\n",
            "poppler-utils is already the newest version (22.02.0-2ubuntu0.5).\n",
            "0 upgraded, 0 newly installed, 0 to remove and 49 not upgraded.\n"
          ]
        }
      ]
    },
    {
      "cell_type": "markdown",
      "source": [
        "# Function code generate video"
      ],
      "metadata": {
        "id": "D2j2SK_Olejb"
      }
    },
    {
      "cell_type": "code",
      "execution_count": 20,
      "metadata": {
        "id": "qjlEDdq3e-Ec"
      },
      "outputs": [],
      "source": [
        "import os\n",
        "from pdf2image import convert_from_path\n",
        "from moviepy.editor import ImageSequenceClip\n",
        "from PIL import Image\n",
        "\n",
        "def pdf_to_video(pdf_path, output_video, fps=1, duration_per_image=10, target_size=(1280, 720)):\n",
        "    # Folder sementara untuk menyimpan gambar\n",
        "    temp_folder = \"temp_images\"\n",
        "    if not os.path.exists(temp_folder):\n",
        "        os.makedirs(temp_folder)\n",
        "\n",
        "    # Ekstrak gambar dari setiap halaman PDF\n",
        "    print(\"Mengonversi halaman PDF menjadi gambar...\")\n",
        "    images = convert_from_path(pdf_path)\n",
        "    image_files = []\n",
        "\n",
        "    for i, image in enumerate(images):\n",
        "        # Ubah ukuran gambar sesuai target_size\n",
        "        print(f\"Mengubah ukuran gambar halaman {i + 1}...\")\n",
        "        resized_image = image.resize(target_size, Image.Resampling.LANCZOS)\n",
        "\n",
        "        # Simpan gambar yang telah diubah ukurannya\n",
        "        image_file = os.path.join(temp_folder, f\"page_{i}.png\")\n",
        "        resized_image.save(image_file, 'PNG')\n",
        "        print(f\"Gambar halaman {i + 1} disimpan sebagai {image_file}\")\n",
        "        image_files.append(image_file)\n",
        "\n",
        "    if not image_files:\n",
        "        print(\"Tidak ada gambar yang ditemukan!\")\n",
        "        return\n",
        "\n",
        "    # Buat video dari urutan gambar, setiap gambar akan muncul selama duration_per_image detik\n",
        "    print(f\"Membuat video dari {len(image_files)} gambar...\")\n",
        "    durations = [duration_per_image] * len(image_files)  # Set durasi untuk setiap gambar\n",
        "\n",
        "    video_clip = ImageSqeuenceClip(image_files, durations=durations)\n",
        "\n",
        "    # Simpan sebagai video\n",
        "    print(f\"Menyimpan video ke {output_video}...\")\n",
        "    video_clip.write_videofile(output_video, fps=fps)\n",
        "\n",
        "    # Hapus gambar sementara\n",
        "    for image_file in image_files:\n",
        "        os.remove(image_file)\n",
        "    os.rmdir(temp_folder)\n",
        "    print(\"Video berhasil dibuat!\")\n",
        "\n",
        "\n"
      ]
    },
    {
      "cell_type": "markdown",
      "source": [
        "# Penggunaan Coode"
      ],
      "metadata": {
        "id": "mvtFGi6vllA7"
      }
    },
    {
      "cell_type": "code",
      "source": [
        "# Contoh penggunaan\n",
        "pdf_to_video(\"/content/Industrial-Human-Resource-Management.pdf\", \"Industrial-Human-Resource-Management.mp4\",\n",
        "             fps=1,\n",
        "             duration_per_image=100, #durasi gambar dihitung dalam detik\n",
        "             target_size=(1280, 720))"
      ],
      "metadata": {
        "colab": {
          "base_uri": "https://localhost:8080/"
        },
        "id": "1k147DPclkZj",
        "outputId": "294ad6f5-4371-4269-faee-4032446055ab"
      },
      "execution_count": 24,
      "outputs": [
        {
          "output_type": "stream",
          "name": "stdout",
          "text": [
            "Mengonversi halaman PDF menjadi gambar...\n",
            "Mengubah ukuran gambar halaman 1...\n",
            "Gambar halaman 1 disimpan sebagai temp_images/page_0.png\n",
            "Mengubah ukuran gambar halaman 2...\n",
            "Gambar halaman 2 disimpan sebagai temp_images/page_1.png\n",
            "Mengubah ukuran gambar halaman 3...\n",
            "Gambar halaman 3 disimpan sebagai temp_images/page_2.png\n",
            "Mengubah ukuran gambar halaman 4...\n",
            "Gambar halaman 4 disimpan sebagai temp_images/page_3.png\n",
            "Mengubah ukuran gambar halaman 5...\n",
            "Gambar halaman 5 disimpan sebagai temp_images/page_4.png\n",
            "Mengubah ukuran gambar halaman 6...\n",
            "Gambar halaman 6 disimpan sebagai temp_images/page_5.png\n",
            "Mengubah ukuran gambar halaman 7...\n",
            "Gambar halaman 7 disimpan sebagai temp_images/page_6.png\n",
            "Mengubah ukuran gambar halaman 8...\n",
            "Gambar halaman 8 disimpan sebagai temp_images/page_7.png\n",
            "Mengubah ukuran gambar halaman 9...\n",
            "Gambar halaman 9 disimpan sebagai temp_images/page_8.png\n",
            "Mengubah ukuran gambar halaman 10...\n",
            "Gambar halaman 10 disimpan sebagai temp_images/page_9.png\n",
            "Membuat video dari 10 gambar...\n",
            "Menyimpan video ke Industrial-Human-Resource-Management.mp4...\n",
            "Moviepy - Building video Industrial-Human-Resource-Management.mp4.\n",
            "Moviepy - Writing video Industrial-Human-Resource-Management.mp4\n",
            "\n"
          ]
        },
        {
          "output_type": "stream",
          "name": "stderr",
          "text": []
        },
        {
          "output_type": "stream",
          "name": "stdout",
          "text": [
            "Moviepy - Done !\n",
            "Moviepy - video ready Industrial-Human-Resource-Management.mp4\n",
            "Video berhasil dibuat!\n"
          ]
        }
      ]
    },
    {
      "cell_type": "markdown",
      "source": [],
      "metadata": {
        "id": "wxHflB3GmklE"
      }
    }
  ]
}